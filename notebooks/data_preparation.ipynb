{
 "cells": [
  {
   "cell_type": "code",
   "execution_count": 62,
   "id": "ef609db3-b10d-4ba1-aef4-38b7f2661e79",
   "metadata": {},
   "outputs": [],
   "source": [
    "import numpy as np\n",
    "import pandas as pd\n",
    "import math"
   ]
  },
  {
   "cell_type": "code",
   "execution_count": 63,
   "id": "f8e9c941-0bfc-4ca9-b40a-3deeb49d4747",
   "metadata": {},
   "outputs": [],
   "source": [
    "features_file = 'species_classification/train_features.csv'\n",
    "labels_file = 'species_classification/train_labels.csv'\n",
    "\n",
    "features = pd.read_csv(features_file)\n",
    "labels = pd.read_csv(labels_file)"
   ]
  },
  {
   "cell_type": "code",
   "execution_count": 64,
   "id": "59426ee8-7d0d-4eb6-8ed9-eb43f7652429",
   "metadata": {},
   "outputs": [
    {
     "data": {
      "text/html": [
       "<div>\n",
       "<style scoped>\n",
       "    .dataframe tbody tr th:only-of-type {\n",
       "        vertical-align: middle;\n",
       "    }\n",
       "\n",
       "    .dataframe tbody tr th {\n",
       "        vertical-align: top;\n",
       "    }\n",
       "\n",
       "    .dataframe thead th {\n",
       "        text-align: right;\n",
       "    }\n",
       "</style>\n",
       "<table border=\"1\" class=\"dataframe\">\n",
       "  <thead>\n",
       "    <tr style=\"text-align: right;\">\n",
       "      <th></th>\n",
       "      <th>id</th>\n",
       "      <th>filepath</th>\n",
       "      <th>site</th>\n",
       "    </tr>\n",
       "  </thead>\n",
       "  <tbody>\n",
       "    <tr>\n",
       "      <th>0</th>\n",
       "      <td>ZJ000000</td>\n",
       "      <td>train_features/ZJ000000.jpg</td>\n",
       "      <td>S0120</td>\n",
       "    </tr>\n",
       "    <tr>\n",
       "      <th>1</th>\n",
       "      <td>ZJ000001</td>\n",
       "      <td>train_features/ZJ000001.jpg</td>\n",
       "      <td>S0069</td>\n",
       "    </tr>\n",
       "    <tr>\n",
       "      <th>2</th>\n",
       "      <td>ZJ000002</td>\n",
       "      <td>train_features/ZJ000002.jpg</td>\n",
       "      <td>S0009</td>\n",
       "    </tr>\n",
       "    <tr>\n",
       "      <th>3</th>\n",
       "      <td>ZJ000003</td>\n",
       "      <td>train_features/ZJ000003.jpg</td>\n",
       "      <td>S0008</td>\n",
       "    </tr>\n",
       "    <tr>\n",
       "      <th>4</th>\n",
       "      <td>ZJ000004</td>\n",
       "      <td>train_features/ZJ000004.jpg</td>\n",
       "      <td>S0036</td>\n",
       "    </tr>\n",
       "  </tbody>\n",
       "</table>\n",
       "</div>"
      ],
      "text/plain": [
       "         id                     filepath   site\n",
       "0  ZJ000000  train_features/ZJ000000.jpg  S0120\n",
       "1  ZJ000001  train_features/ZJ000001.jpg  S0069\n",
       "2  ZJ000002  train_features/ZJ000002.jpg  S0009\n",
       "3  ZJ000003  train_features/ZJ000003.jpg  S0008\n",
       "4  ZJ000004  train_features/ZJ000004.jpg  S0036"
      ]
     },
     "execution_count": 64,
     "metadata": {},
     "output_type": "execute_result"
    }
   ],
   "source": [
    "features.head()"
   ]
  },
  {
   "cell_type": "code",
   "execution_count": 65,
   "id": "c61cdb7e-c175-448b-8e53-64638726264f",
   "metadata": {},
   "outputs": [
    {
     "data": {
      "text/html": [
       "<div>\n",
       "<style scoped>\n",
       "    .dataframe tbody tr th:only-of-type {\n",
       "        vertical-align: middle;\n",
       "    }\n",
       "\n",
       "    .dataframe tbody tr th {\n",
       "        vertical-align: top;\n",
       "    }\n",
       "\n",
       "    .dataframe thead th {\n",
       "        text-align: right;\n",
       "    }\n",
       "</style>\n",
       "<table border=\"1\" class=\"dataframe\">\n",
       "  <thead>\n",
       "    <tr style=\"text-align: right;\">\n",
       "      <th></th>\n",
       "      <th>id</th>\n",
       "      <th>antelope_duiker</th>\n",
       "      <th>bird</th>\n",
       "      <th>blank</th>\n",
       "      <th>civet_genet</th>\n",
       "      <th>hog</th>\n",
       "      <th>leopard</th>\n",
       "      <th>monkey_prosimian</th>\n",
       "      <th>rodent</th>\n",
       "    </tr>\n",
       "  </thead>\n",
       "  <tbody>\n",
       "    <tr>\n",
       "      <th>0</th>\n",
       "      <td>ZJ000000</td>\n",
       "      <td>0.0</td>\n",
       "      <td>1.0</td>\n",
       "      <td>0.0</td>\n",
       "      <td>0.0</td>\n",
       "      <td>0.0</td>\n",
       "      <td>0.0</td>\n",
       "      <td>0.0</td>\n",
       "      <td>0.0</td>\n",
       "    </tr>\n",
       "    <tr>\n",
       "      <th>1</th>\n",
       "      <td>ZJ000001</td>\n",
       "      <td>0.0</td>\n",
       "      <td>0.0</td>\n",
       "      <td>0.0</td>\n",
       "      <td>0.0</td>\n",
       "      <td>0.0</td>\n",
       "      <td>0.0</td>\n",
       "      <td>1.0</td>\n",
       "      <td>0.0</td>\n",
       "    </tr>\n",
       "    <tr>\n",
       "      <th>2</th>\n",
       "      <td>ZJ000002</td>\n",
       "      <td>0.0</td>\n",
       "      <td>1.0</td>\n",
       "      <td>0.0</td>\n",
       "      <td>0.0</td>\n",
       "      <td>0.0</td>\n",
       "      <td>0.0</td>\n",
       "      <td>0.0</td>\n",
       "      <td>0.0</td>\n",
       "    </tr>\n",
       "    <tr>\n",
       "      <th>3</th>\n",
       "      <td>ZJ000003</td>\n",
       "      <td>0.0</td>\n",
       "      <td>0.0</td>\n",
       "      <td>0.0</td>\n",
       "      <td>0.0</td>\n",
       "      <td>0.0</td>\n",
       "      <td>0.0</td>\n",
       "      <td>1.0</td>\n",
       "      <td>0.0</td>\n",
       "    </tr>\n",
       "    <tr>\n",
       "      <th>4</th>\n",
       "      <td>ZJ000004</td>\n",
       "      <td>0.0</td>\n",
       "      <td>0.0</td>\n",
       "      <td>0.0</td>\n",
       "      <td>0.0</td>\n",
       "      <td>0.0</td>\n",
       "      <td>1.0</td>\n",
       "      <td>0.0</td>\n",
       "      <td>0.0</td>\n",
       "    </tr>\n",
       "  </tbody>\n",
       "</table>\n",
       "</div>"
      ],
      "text/plain": [
       "         id  antelope_duiker  bird  blank  civet_genet  hog  leopard  \\\n",
       "0  ZJ000000              0.0   1.0    0.0          0.0  0.0      0.0   \n",
       "1  ZJ000001              0.0   0.0    0.0          0.0  0.0      0.0   \n",
       "2  ZJ000002              0.0   1.0    0.0          0.0  0.0      0.0   \n",
       "3  ZJ000003              0.0   0.0    0.0          0.0  0.0      0.0   \n",
       "4  ZJ000004              0.0   0.0    0.0          0.0  0.0      1.0   \n",
       "\n",
       "   monkey_prosimian  rodent  \n",
       "0               0.0     0.0  \n",
       "1               1.0     0.0  \n",
       "2               0.0     0.0  \n",
       "3               1.0     0.0  \n",
       "4               0.0     0.0  "
      ]
     },
     "execution_count": 65,
     "metadata": {},
     "output_type": "execute_result"
    }
   ],
   "source": [
    "labels.head()"
   ]
  },
  {
   "cell_type": "code",
   "execution_count": 66,
   "id": "a8f28b6c-8ae8-4bcb-bbb2-e14c9ec70bd9",
   "metadata": {},
   "outputs": [],
   "source": [
    "def extract_label_name(row):\n",
    "    col_names = ['antelope_duiker', 'bird', 'blank', 'civet_genet', 'hog',\n",
    "       'leopard', 'monkey_prosimian', 'rodent']\n",
    "    for col in col_names:\n",
    "        if row[col] == 1.0:\n",
    "            return col\n",
    "            break"
   ]
  },
  {
   "cell_type": "code",
   "execution_count": 67,
   "id": "e6afff3c-ca4e-4794-9816-1f11da7a9ca1",
   "metadata": {},
   "outputs": [
    {
     "data": {
      "text/html": [
       "<div>\n",
       "<style scoped>\n",
       "    .dataframe tbody tr th:only-of-type {\n",
       "        vertical-align: middle;\n",
       "    }\n",
       "\n",
       "    .dataframe tbody tr th {\n",
       "        vertical-align: top;\n",
       "    }\n",
       "\n",
       "    .dataframe thead th {\n",
       "        text-align: right;\n",
       "    }\n",
       "</style>\n",
       "<table border=\"1\" class=\"dataframe\">\n",
       "  <thead>\n",
       "    <tr style=\"text-align: right;\">\n",
       "      <th></th>\n",
       "      <th>id</th>\n",
       "      <th>label</th>\n",
       "    </tr>\n",
       "  </thead>\n",
       "  <tbody>\n",
       "    <tr>\n",
       "      <th>0</th>\n",
       "      <td>ZJ000000</td>\n",
       "      <td>bird</td>\n",
       "    </tr>\n",
       "    <tr>\n",
       "      <th>1</th>\n",
       "      <td>ZJ000001</td>\n",
       "      <td>monkey_prosimian</td>\n",
       "    </tr>\n",
       "    <tr>\n",
       "      <th>2</th>\n",
       "      <td>ZJ000002</td>\n",
       "      <td>bird</td>\n",
       "    </tr>\n",
       "    <tr>\n",
       "      <th>3</th>\n",
       "      <td>ZJ000003</td>\n",
       "      <td>monkey_prosimian</td>\n",
       "    </tr>\n",
       "    <tr>\n",
       "      <th>4</th>\n",
       "      <td>ZJ000004</td>\n",
       "      <td>leopard</td>\n",
       "    </tr>\n",
       "  </tbody>\n",
       "</table>\n",
       "</div>"
      ],
      "text/plain": [
       "         id             label\n",
       "0  ZJ000000              bird\n",
       "1  ZJ000001  monkey_prosimian\n",
       "2  ZJ000002              bird\n",
       "3  ZJ000003  monkey_prosimian\n",
       "4  ZJ000004           leopard"
      ]
     },
     "execution_count": 67,
     "metadata": {},
     "output_type": "execute_result"
    }
   ],
   "source": [
    "labels = pd.concat([labels['id'], labels.apply(extract_label_name, axis=1)], axis=1)\n",
    "labels.columns = ['id', 'label']\n",
    "labels.head()"
   ]
  },
  {
   "cell_type": "code",
   "execution_count": 68,
   "id": "b34f123a-b739-4f92-9d19-c4b0f7386246",
   "metadata": {},
   "outputs": [],
   "source": [
    "assert (features['id'] == labels['id']).all()\n",
    "assert features['id'].nunique() == len(features)"
   ]
  },
  {
   "cell_type": "code",
   "execution_count": 69,
   "id": "67fb3bff-149a-4f8a-906e-75f02bad28df",
   "metadata": {
    "scrolled": true
   },
   "outputs": [
    {
     "data": {
      "text/html": [
       "<div>\n",
       "<style scoped>\n",
       "    .dataframe tbody tr th:only-of-type {\n",
       "        vertical-align: middle;\n",
       "    }\n",
       "\n",
       "    .dataframe tbody tr th {\n",
       "        vertical-align: top;\n",
       "    }\n",
       "\n",
       "    .dataframe thead th {\n",
       "        text-align: right;\n",
       "    }\n",
       "</style>\n",
       "<table border=\"1\" class=\"dataframe\">\n",
       "  <thead>\n",
       "    <tr style=\"text-align: right;\">\n",
       "      <th></th>\n",
       "      <th>id</th>\n",
       "      <th>filepath</th>\n",
       "      <th>site</th>\n",
       "      <th>label</th>\n",
       "    </tr>\n",
       "  </thead>\n",
       "  <tbody>\n",
       "    <tr>\n",
       "      <th>0</th>\n",
       "      <td>ZJ000000</td>\n",
       "      <td>train_features/ZJ000000.jpg</td>\n",
       "      <td>S0120</td>\n",
       "      <td>bird</td>\n",
       "    </tr>\n",
       "    <tr>\n",
       "      <th>1</th>\n",
       "      <td>ZJ000001</td>\n",
       "      <td>train_features/ZJ000001.jpg</td>\n",
       "      <td>S0069</td>\n",
       "      <td>monkey_prosimian</td>\n",
       "    </tr>\n",
       "    <tr>\n",
       "      <th>2</th>\n",
       "      <td>ZJ000002</td>\n",
       "      <td>train_features/ZJ000002.jpg</td>\n",
       "      <td>S0009</td>\n",
       "      <td>bird</td>\n",
       "    </tr>\n",
       "    <tr>\n",
       "      <th>3</th>\n",
       "      <td>ZJ000003</td>\n",
       "      <td>train_features/ZJ000003.jpg</td>\n",
       "      <td>S0008</td>\n",
       "      <td>monkey_prosimian</td>\n",
       "    </tr>\n",
       "    <tr>\n",
       "      <th>4</th>\n",
       "      <td>ZJ000004</td>\n",
       "      <td>train_features/ZJ000004.jpg</td>\n",
       "      <td>S0036</td>\n",
       "      <td>leopard</td>\n",
       "    </tr>\n",
       "  </tbody>\n",
       "</table>\n",
       "</div>"
      ],
      "text/plain": [
       "         id                     filepath   site             label\n",
       "0  ZJ000000  train_features/ZJ000000.jpg  S0120              bird\n",
       "1  ZJ000001  train_features/ZJ000001.jpg  S0069  monkey_prosimian\n",
       "2  ZJ000002  train_features/ZJ000002.jpg  S0009              bird\n",
       "3  ZJ000003  train_features/ZJ000003.jpg  S0008  monkey_prosimian\n",
       "4  ZJ000004  train_features/ZJ000004.jpg  S0036           leopard"
      ]
     },
     "execution_count": 69,
     "metadata": {},
     "output_type": "execute_result"
    }
   ],
   "source": [
    "data_df = pd.merge(features, labels, on='id')\n",
    "data_df.head()"
   ]
  },
  {
   "cell_type": "code",
   "execution_count": 70,
   "id": "48dc989d-b339-4cd5-9731-d22c361a8ca3",
   "metadata": {},
   "outputs": [],
   "source": [
    "from sklearn.model_selection import train_test_split\n",
    "\n",
    "SEED = 42\n",
    "train_p = 0.7\n",
    "valid_p = 0.15\n",
    "test_p = 0.15\n",
    "\n",
    "train_features_all, test_features, train_labels_all, test_labels = \\\n",
    "    train_test_split(\n",
    "        features,\n",
    "        labels,\n",
    "        test_size=test_p,\n",
    "        random_state=SEED,\n",
    "        stratify=labels['label']\n",
    "    )\n",
    "train_features, valid_features, train_labels, valid_labels = \\\n",
    "    train_test_split(\n",
    "        train_features_all,\n",
    "        train_labels_all,\n",
    "        test_size=(valid_p/(train_p + valid_p)),\n",
    "        random_state=SEED,\n",
    "        stratify=train_labels_all['label']\n",
    "    )"
   ]
  },
  {
   "cell_type": "code",
   "execution_count": 71,
   "id": "9d3b9a31-e033-49bc-b980-225be9d6393f",
   "metadata": {},
   "outputs": [],
   "source": [
    "train_features = train_features.reset_index(drop=True)\n",
    "train_labels = train_labels.reset_index(drop=True)\n",
    "valid_features = valid_features.reset_index(drop=True)\n",
    "valid_labels = valid_labels.reset_index(drop=True)\n",
    "test_features = test_features.reset_index(drop=True)\n",
    "test_labels = test_labels.reset_index(drop=True)"
   ]
  },
  {
   "cell_type": "code",
   "execution_count": 72,
   "id": "ad9692b2-399e-4743-8e5e-7515559ab9a2",
   "metadata": {},
   "outputs": [
    {
     "data": {
      "text/plain": [
       "label\n",
       "monkey_prosimian    1744\n",
       "antelope_duiker     1732\n",
       "civet_genet         1695\n",
       "leopard             1578\n",
       "blank               1549\n",
       "rodent              1409\n",
       "bird                1149\n",
       "hog                  684\n",
       "Name: count, dtype: int64"
      ]
     },
     "execution_count": 72,
     "metadata": {},
     "output_type": "execute_result"
    }
   ],
   "source": [
    "train_labels['label'].value_counts()"
   ]
  },
  {
   "cell_type": "code",
   "execution_count": 73,
   "id": "32f436b1-a974-49d8-9085-18574a1c9aa0",
   "metadata": {},
   "outputs": [
    {
     "data": {
      "text/plain": [
       "label\n",
       "monkey_prosimian    374\n",
       "antelope_duiker     371\n",
       "civet_genet         364\n",
       "leopard             338\n",
       "blank               332\n",
       "rodent              302\n",
       "bird                246\n",
       "hog                 147\n",
       "Name: count, dtype: int64"
      ]
     },
     "execution_count": 73,
     "metadata": {},
     "output_type": "execute_result"
    }
   ],
   "source": [
    "valid_labels['label'].value_counts()"
   ]
  },
  {
   "cell_type": "code",
   "execution_count": 74,
   "id": "c842bf05-ab2a-4e84-8b13-09bd4169b1a2",
   "metadata": {},
   "outputs": [
    {
     "data": {
      "text/plain": [
       "label\n",
       "monkey_prosimian    374\n",
       "antelope_duiker     371\n",
       "civet_genet         364\n",
       "leopard             338\n",
       "blank               332\n",
       "rodent              302\n",
       "bird                246\n",
       "hog                 147\n",
       "Name: count, dtype: int64"
      ]
     },
     "execution_count": 74,
     "metadata": {},
     "output_type": "execute_result"
    }
   ],
   "source": [
    "test_labels['label'].value_counts()"
   ]
  },
  {
   "cell_type": "code",
   "execution_count": 75,
   "id": "17fd1631-b2f6-4668-b610-1dc6f09757f6",
   "metadata": {},
   "outputs": [
    {
     "data": {
      "text/plain": [
       "label\n",
       "monkey_prosimian    0.151127\n",
       "antelope_duiker     0.150087\n",
       "civet_genet         0.146880\n",
       "leopard             0.136742\n",
       "blank               0.134229\n",
       "rodent              0.122097\n",
       "bird                0.099567\n",
       "hog                 0.059272\n",
       "Name: proportion, dtype: float64"
      ]
     },
     "execution_count": 75,
     "metadata": {},
     "output_type": "execute_result"
    }
   ],
   "source": [
    "train_labels['label'].value_counts(normalize=True)"
   ]
  },
  {
   "cell_type": "code",
   "execution_count": 13,
   "id": "1748aea8-a9d9-469d-81a8-85a2d80b7b20",
   "metadata": {},
   "outputs": [
    {
     "data": {
      "text/plain": [
       "(11540, 2474, 2474)"
      ]
     },
     "execution_count": 13,
     "metadata": {},
     "output_type": "execute_result"
    }
   ],
   "source": [
    "(len(train_labels), len(valid_labels), len(test_labels))"
   ]
  },
  {
   "cell_type": "code",
   "execution_count": 26,
   "id": "d19623d0-db68-4e3d-af7d-34c86b9f11df",
   "metadata": {},
   "outputs": [
    {
     "data": {
      "text/html": [
       "<div>\n",
       "<style scoped>\n",
       "    .dataframe tbody tr th:only-of-type {\n",
       "        vertical-align: middle;\n",
       "    }\n",
       "\n",
       "    .dataframe tbody tr th {\n",
       "        vertical-align: top;\n",
       "    }\n",
       "\n",
       "    .dataframe thead th {\n",
       "        text-align: right;\n",
       "    }\n",
       "</style>\n",
       "<table border=\"1\" class=\"dataframe\">\n",
       "  <thead>\n",
       "    <tr style=\"text-align: right;\">\n",
       "      <th></th>\n",
       "      <th>id</th>\n",
       "      <th>filepath</th>\n",
       "      <th>site</th>\n",
       "    </tr>\n",
       "  </thead>\n",
       "  <tbody>\n",
       "    <tr>\n",
       "      <th>0</th>\n",
       "      <td>ZJ006825</td>\n",
       "      <td>train_features/ZJ006825.jpg</td>\n",
       "      <td>S0085</td>\n",
       "    </tr>\n",
       "    <tr>\n",
       "      <th>1</th>\n",
       "      <td>ZJ011463</td>\n",
       "      <td>train_features/ZJ011463.jpg</td>\n",
       "      <td>S0013</td>\n",
       "    </tr>\n",
       "    <tr>\n",
       "      <th>2</th>\n",
       "      <td>ZJ010399</td>\n",
       "      <td>train_features/ZJ010399.jpg</td>\n",
       "      <td>S0047</td>\n",
       "    </tr>\n",
       "    <tr>\n",
       "      <th>3</th>\n",
       "      <td>ZJ001767</td>\n",
       "      <td>train_features/ZJ001767.jpg</td>\n",
       "      <td>S0127</td>\n",
       "    </tr>\n",
       "    <tr>\n",
       "      <th>4</th>\n",
       "      <td>ZJ006294</td>\n",
       "      <td>train_features/ZJ006294.jpg</td>\n",
       "      <td>S0150</td>\n",
       "    </tr>\n",
       "  </tbody>\n",
       "</table>\n",
       "</div>"
      ],
      "text/plain": [
       "         id                     filepath   site\n",
       "0  ZJ006825  train_features/ZJ006825.jpg  S0085\n",
       "1  ZJ011463  train_features/ZJ011463.jpg  S0013\n",
       "2  ZJ010399  train_features/ZJ010399.jpg  S0047\n",
       "3  ZJ001767  train_features/ZJ001767.jpg  S0127\n",
       "4  ZJ006294  train_features/ZJ006294.jpg  S0150"
      ]
     },
     "execution_count": 26,
     "metadata": {},
     "output_type": "execute_result"
    }
   ],
   "source": [
    "train_features.head()"
   ]
  },
  {
   "cell_type": "code",
   "execution_count": 28,
   "id": "d296e33a-a023-464c-966b-290bd9b26b16",
   "metadata": {},
   "outputs": [
    {
     "data": {
      "text/html": [
       "<div>\n",
       "<style scoped>\n",
       "    .dataframe tbody tr th:only-of-type {\n",
       "        vertical-align: middle;\n",
       "    }\n",
       "\n",
       "    .dataframe tbody tr th {\n",
       "        vertical-align: top;\n",
       "    }\n",
       "\n",
       "    .dataframe thead th {\n",
       "        text-align: right;\n",
       "    }\n",
       "</style>\n",
       "<table border=\"1\" class=\"dataframe\">\n",
       "  <thead>\n",
       "    <tr style=\"text-align: right;\">\n",
       "      <th></th>\n",
       "      <th>id</th>\n",
       "      <th>label</th>\n",
       "    </tr>\n",
       "  </thead>\n",
       "  <tbody>\n",
       "    <tr>\n",
       "      <th>0</th>\n",
       "      <td>ZJ006825</td>\n",
       "      <td>leopard</td>\n",
       "    </tr>\n",
       "    <tr>\n",
       "      <th>1</th>\n",
       "      <td>ZJ011463</td>\n",
       "      <td>blank</td>\n",
       "    </tr>\n",
       "    <tr>\n",
       "      <th>2</th>\n",
       "      <td>ZJ010399</td>\n",
       "      <td>blank</td>\n",
       "    </tr>\n",
       "    <tr>\n",
       "      <th>3</th>\n",
       "      <td>ZJ001767</td>\n",
       "      <td>monkey_prosimian</td>\n",
       "    </tr>\n",
       "    <tr>\n",
       "      <th>4</th>\n",
       "      <td>ZJ006294</td>\n",
       "      <td>monkey_prosimian</td>\n",
       "    </tr>\n",
       "  </tbody>\n",
       "</table>\n",
       "</div>"
      ],
      "text/plain": [
       "         id             label\n",
       "0  ZJ006825           leopard\n",
       "1  ZJ011463             blank\n",
       "2  ZJ010399             blank\n",
       "3  ZJ001767  monkey_prosimian\n",
       "4  ZJ006294  monkey_prosimian"
      ]
     },
     "execution_count": 28,
     "metadata": {},
     "output_type": "execute_result"
    }
   ],
   "source": [
    "train_labels.head()"
   ]
  },
  {
   "cell_type": "code",
   "execution_count": 29,
   "id": "7eab000d-3908-4808-8994-b5110f10a451",
   "metadata": {},
   "outputs": [],
   "source": [
    "train_df = pd.merge(train_features, train_labels, on='id')\n",
    "valid_df = pd.merge(valid_features, valid_labels, on='id')\n",
    "test_df = pd.merge(test_features, test_labels, on='id')"
   ]
  },
  {
   "cell_type": "code",
   "execution_count": 34,
   "id": "ec5b5811-9dd9-4f76-aa84-781c6d878486",
   "metadata": {},
   "outputs": [
    {
     "data": {
      "text/html": [
       "<div>\n",
       "<style scoped>\n",
       "    .dataframe tbody tr th:only-of-type {\n",
       "        vertical-align: middle;\n",
       "    }\n",
       "\n",
       "    .dataframe tbody tr th {\n",
       "        vertical-align: top;\n",
       "    }\n",
       "\n",
       "    .dataframe thead th {\n",
       "        text-align: right;\n",
       "    }\n",
       "</style>\n",
       "<table border=\"1\" class=\"dataframe\">\n",
       "  <thead>\n",
       "    <tr style=\"text-align: right;\">\n",
       "      <th></th>\n",
       "      <th>id</th>\n",
       "      <th>filepath</th>\n",
       "      <th>site</th>\n",
       "      <th>label</th>\n",
       "    </tr>\n",
       "  </thead>\n",
       "  <tbody>\n",
       "    <tr>\n",
       "      <th>0</th>\n",
       "      <td>ZJ006825</td>\n",
       "      <td>train_features/ZJ006825.jpg</td>\n",
       "      <td>S0085</td>\n",
       "      <td>leopard</td>\n",
       "    </tr>\n",
       "    <tr>\n",
       "      <th>1</th>\n",
       "      <td>ZJ011463</td>\n",
       "      <td>train_features/ZJ011463.jpg</td>\n",
       "      <td>S0013</td>\n",
       "      <td>blank</td>\n",
       "    </tr>\n",
       "    <tr>\n",
       "      <th>2</th>\n",
       "      <td>ZJ010399</td>\n",
       "      <td>train_features/ZJ010399.jpg</td>\n",
       "      <td>S0047</td>\n",
       "      <td>blank</td>\n",
       "    </tr>\n",
       "    <tr>\n",
       "      <th>3</th>\n",
       "      <td>ZJ001767</td>\n",
       "      <td>train_features/ZJ001767.jpg</td>\n",
       "      <td>S0127</td>\n",
       "      <td>monkey_prosimian</td>\n",
       "    </tr>\n",
       "    <tr>\n",
       "      <th>4</th>\n",
       "      <td>ZJ006294</td>\n",
       "      <td>train_features/ZJ006294.jpg</td>\n",
       "      <td>S0150</td>\n",
       "      <td>monkey_prosimian</td>\n",
       "    </tr>\n",
       "  </tbody>\n",
       "</table>\n",
       "</div>"
      ],
      "text/plain": [
       "         id                     filepath   site             label\n",
       "0  ZJ006825  train_features/ZJ006825.jpg  S0085           leopard\n",
       "1  ZJ011463  train_features/ZJ011463.jpg  S0013             blank\n",
       "2  ZJ010399  train_features/ZJ010399.jpg  S0047             blank\n",
       "3  ZJ001767  train_features/ZJ001767.jpg  S0127  monkey_prosimian\n",
       "4  ZJ006294  train_features/ZJ006294.jpg  S0150  monkey_prosimian"
      ]
     },
     "execution_count": 34,
     "metadata": {},
     "output_type": "execute_result"
    }
   ],
   "source": [
    "train_df.head()"
   ]
  },
  {
   "cell_type": "code",
   "execution_count": 61,
   "id": "a8c12130-6b5d-476a-993e-0b5af5e0f786",
   "metadata": {},
   "outputs": [],
   "source": [
    "import os, shutil, pathlib\n",
    "\n",
    "def remove_prefix(row):\n",
    "    return row['filepath'].split('/')[1]\n",
    "\n",
    "def create_data_directories(data_subsets, labels, original_dir, new_base_dir):\n",
    "    for subset_name, subset in data_subsets.items():\n",
    "        for label in labels:\n",
    "            data_dir = new_base_dir /  subset_name / label\n",
    "            os.makedirs(data_dir)\n",
    "            fnames = list(subset[subset['label'] == label].apply(remove_prefix, axis=1))\n",
    "            for fname in fnames:\n",
    "                shutil.copyfile(src=original_dir / fname, dst=data_dir / fname)\n",
    "\n",
    "original_dir = pathlib.Path('species_classification/train_features')\n",
    "new_base_dir = pathlib.Path('species_data')\n",
    "data_subsets = {\n",
    "    'train': train_df,\n",
    "    'valid': valid_df,\n",
    "    'test': test_df\n",
    "}\n",
    "labels = list(train_df['label'].unique())\n",
    "\n",
    "create_data_directories(data_subsets, labels, original_dir, new_base_dir)"
   ]
  },
  {
   "cell_type": "code",
   "execution_count": null,
   "id": "cf843d6c-87af-4455-9337-6727c11da051",
   "metadata": {},
   "outputs": [],
   "source": []
  }
 ],
 "metadata": {
  "kernelspec": {
   "display_name": "Python 3 (ipykernel)",
   "language": "python",
   "name": "python3"
  },
  "language_info": {
   "codemirror_mode": {
    "name": "ipython",
    "version": 3
   },
   "file_extension": ".py",
   "mimetype": "text/x-python",
   "name": "python",
   "nbconvert_exporter": "python",
   "pygments_lexer": "ipython3",
   "version": "3.11.9"
  }
 },
 "nbformat": 4,
 "nbformat_minor": 5
}
